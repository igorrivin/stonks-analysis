{
  "cells": [
    {
      "cell_type": "code",
      "execution_count": null,
      "metadata": {},
      "outputs": [],
      "source": [
        "%pip install -U \"git+https://github.com/sashakolpakov/stonks-analysis.git@main\"\n"
      ]
    },
    {
      "cell_type": "code",
      "execution_count": null,
      "metadata": {},
      "outputs": [],
      "source": [
        "import numpy as np\n",
        "import pandas as pd\n",
        "import matplotlib.pyplot as plt\n",
        "from sklearn.preprocessing import StandardScaler\n",
        "from sklearn.decomposition import PCA\n",
        "from sklearn.manifold import TSNE\n",
        "import umap\n",
        "from dire_jax import DiRe\n",
        "from stonks_analysis import download_data, compute_generic_features\n"
      ]
    },
    {
      "cell_type": "code",
      "execution_count": null,
      "metadata": {},
      "outputs": [],
      "source": [
        "# -- 1) Download & align --\n",
        "tickers = [\"AAPL\", \"AMZN\", \"PLTR\", \"BTC-USD\", \"ETH-USD\", \"DOGE-USD\"]\n",
        "raw = {t: download_data(t, lookback_days=365*2) for t in tickers}\n",
        "# intersection of dates\n",
        "common_idx = raw[tickers[0]].index\n",
        "for t in tickers[1:]:\n",
        "    common_idx = common_idx.intersection(raw[t].index)\n",
        "aligned = {t: raw[t].loc[common_idx] for t in tickers}\n",
        "\n",
        "# -- 2) Build feature DataFrame --\n",
        "dfs = []\n",
        "for t in tickers:\n",
        "    feats = compute_generic_features(aligned[t]).dropna()\n",
        "    label = t.replace(\"-USD\",\"\")\n",
        "    feats[\"Ticker\"] = label\n",
        "    dfs.append(feats)\n",
        "df_pts = pd.concat(dfs)\n",
        "\n",
        "# -- 3) Prepare X and labels --\n",
        "labels = df_pts[\"Ticker\"].tolist()\n",
        "X = df_pts[[\"Close\",\"LogVol\",\"Return\"]].values\n",
        "X_scaled = StandardScaler().fit_transform(X)\n",
        "\n",
        "# -- 4) Set up four reducers --\n",
        "reducers = {\n",
        "    \"DiRe-JAX\": DiRe(dimension=2, n_neighbors=32, init_embedding_type=\"spectral\", max_iter_layout=64, cutoff=12),\n",
        "    \"PCA\":      PCA(n_components=2),\n",
        "    \"t-SNE\":    TSNE(n_components=2, init=\"pca\"),\n",
        "    \"UMAP\":     umap.UMAP(n_components=2)\n",
        "}\n",
        "\n",
        "# -- 5) Compute embeddings --\n",
        "embeddings = {}\n",
        "for name, red in reducers.items():\n",
        "    Z = red.fit_transform(X_scaled)\n",
        "    embeddings[name] = Z\n",
        "\n",
        "# -- 6) Plot all four with discrete labels --\n",
        "label_list = sorted(set(labels))  # e.g. ['AAPL','AMZN','BTC','ETH']\n",
        "palette = plt.get_cmap(\"tab10\")   # up to 10 distinct colors\n",
        "\n",
        "fig, axes = plt.subplots(2, 2, figsize=(12, 10))\n",
        "axes = axes.ravel()\n",
        "\n",
        "for ax, (name, Z) in zip(axes, embeddings.items()):\n",
        "    # plot each point with its label’s color\n",
        "    for lbl in label_list:\n",
        "        idx = [i for i, L in enumerate(labels) if L == lbl]\n",
        "        ax.scatter(\n",
        "            Z[idx, 0], Z[idx, 1],\n",
        "            c=[palette(label_list.index(lbl))],\n",
        "            label=lbl, s=5\n",
        "        )\n",
        "    ax.set_title(name)\n",
        "    ax.legend()\n",
        "\n",
        "plt.tight_layout()\n",
        "plt.show()\n"
      ]
    }
  ],
  "metadata": {
    "kernelspec": {
      "display_name": "Python 3",
      "language": "python",
      "name": "python3"
    },
    "language_info": {
      "codemirror_mode": {
        "name": "ipython",
        "version": 3
      },
      "file_extension": ".py",
      "mimetype": "text/x-python",
      "name": "python",
      "nbconvert_exporter": "python",
      "pygments_lexer": "ipython3",
      "version": "3.10.6"
    }
  },
  "nbformat": 4,
  "nbformat_minor": 2
}
